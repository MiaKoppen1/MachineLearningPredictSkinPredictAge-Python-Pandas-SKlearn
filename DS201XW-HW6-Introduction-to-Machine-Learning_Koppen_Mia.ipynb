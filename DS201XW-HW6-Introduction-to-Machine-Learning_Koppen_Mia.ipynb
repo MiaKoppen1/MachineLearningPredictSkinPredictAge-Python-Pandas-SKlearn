{
 "cells": [
  {
   "cell_type": "code",
   "execution_count": 1,
   "metadata": {},
   "outputs": [],
   "source": [
    "import pandas as pd\n",
    "import numpy as np\n",
    "import os\n",
    "import seaborn as sns\n",
    "import matplotlib.pyplot as plt\n",
    "from sklearn import tree"
   ]
  },
  {
   "cell_type": "code",
   "execution_count": 2,
   "metadata": {},
   "outputs": [],
   "source": [
    "features = [[140,0], [130,0], [150,1], [170,1]]\n",
    "labels = [\"Apple\", \"Apple\", \"Orange\", \"Orange\"]"
   ]
  },
  {
   "cell_type": "code",
   "execution_count": 3,
   "metadata": {},
   "outputs": [
    {
     "name": "stdout",
     "output_type": "stream",
     "text": [
      "['Apple']\n"
     ]
    }
   ],
   "source": [
    "skin_classifier = tree.DecisionTreeClassifier()\n",
    "skin_classifier = skin_classifier.fit(features, labels)\n",
    "print(skin_classifier.predict([[120,0]]))"
   ]
  },
  {
   "cell_type": "code",
   "execution_count": 4,
   "metadata": {},
   "outputs": [],
   "source": [
    "Age_features = [[1, 15], [1, 25], [2, 32], [1, 40], [2, 12], [2, 14]]\n",
    "Age_labels = [\"Pokemon Go\", \"WhatsApp\", \"Snap Chat\", \"WhatsApp\", \"Pokemon Go\", \"PokemonGo\"]\n",
    "#1 = Female, 2 = Male\n",
    "#[Gender, Age]"
   ]
  },
  {
   "cell_type": "code",
   "execution_count": 5,
   "metadata": {},
   "outputs": [
    {
     "name": "stdout",
     "output_type": "stream",
     "text": [
      "['Snap Chat']\n"
     ]
    }
   ],
   "source": [
    "age_classifier = tree.DecisionTreeClassifier()\n",
    "age_classifier = age_classifier.fit(Age_features, Age_labels)\n",
    "print(age_classifier.predict([[2,21]]))"
   ]
  },
  {
   "cell_type": "code",
   "execution_count": 6,
   "metadata": {},
   "outputs": [
    {
     "name": "stdout",
     "output_type": "stream",
     "text": [
      "['Pokemon Go']\n"
     ]
    }
   ],
   "source": [
    "print(age_classifier.predict([[1,18]]))"
   ]
  }
 ],
 "metadata": {
  "kernelspec": {
   "display_name": "base",
   "language": "python",
   "name": "python3"
  },
  "language_info": {
   "codemirror_mode": {
    "name": "ipython",
    "version": 3
   },
   "file_extension": ".py",
   "mimetype": "text/x-python",
   "name": "python",
   "nbconvert_exporter": "python",
   "pygments_lexer": "ipython3",
   "version": "3.11.7"
  }
 },
 "nbformat": 4,
 "nbformat_minor": 2
}
